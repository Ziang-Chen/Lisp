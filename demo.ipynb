{
 "cells": [
  {
   "cell_type": "markdown",
   "metadata": {},
   "source": [
    "#  LispStyleTest"
   ]
  },
  {
   "cell_type": "code",
   "execution_count": 2,
   "metadata": {},
   "outputs": [],
   "source": [
    "import Tools.pyEmbed as pebd\n",
    "from Grammer.Tokens import *\n",
    "from Compiler.Symbol import Var"
   ]
  },
  {
   "cell_type": "code",
   "execution_count": 3,
   "metadata": {},
   "outputs": [
    {
     "name": "stdout",
     "output_type": "stream",
     "text": [
      "1\n"
     ]
    }
   ],
   "source": [
    "e=pebd.pyEnv()\n",
    "e.parseGlobal(\n",
    "    (Print, 1\n",
    "    )\n",
    ")\n",
    "# e.parseGlobal((\n",
    "#     Variable, 'x' ))\n",
    "\n",
    "# e.parseGlobal((\n",
    "#     Assign, 'x', 1\n",
    "#     ))"
   ]
  },
  {
   "cell_type": "code",
   "execution_count": 4,
   "metadata": {},
   "outputs": [
    {
     "data": {
      "text/plain": [
       "Variable object: Var(x): None"
      ]
     },
     "execution_count": 4,
     "metadata": {},
     "output_type": "execute_result"
    }
   ],
   "source": [
    "Var('x')"
   ]
  },
  {
   "cell_type": "code",
   "execution_count": 5,
   "metadata": {},
   "outputs": [
    {
     "name": "stdout",
     "output_type": "stream",
     "text": [
      "1\n"
     ]
    }
   ],
   "source": [
    "g=pebd.envAccess(e)\n",
    "\n",
    "g+ (\n",
    "    Print, 1\n",
    "    )"
   ]
  },
  {
   "cell_type": "code",
   "execution_count": 6,
   "metadata": {},
   "outputs": [
    {
     "name": "stdout",
     "output_type": "stream",
     "text": [
      "NoPatternMatched(No Pattern Matched)\n"
     ]
    }
   ],
   "source": [
    "g@(Print, \n",
    "   (1,\n",
    "    2,\n",
    "    3,\n",
    "    4,\n",
    "    5,6,7\n",
    "    ,8,9,10))"
   ]
  },
  {
   "cell_type": "code",
   "execution_count": 7,
   "metadata": {},
   "outputs": [],
   "source": [
    "g@(1)"
   ]
  },
  {
   "cell_type": "code",
   "execution_count": 8,
   "metadata": {},
   "outputs": [
    {
     "name": "stdout",
     "output_type": "stream",
     "text": [
      "1\n",
      "3\n"
     ]
    }
   ],
   "source": [
    "y= Var('x')\n",
    "g@(Assign, y, 1)\n",
    "g@(Print, y)\n",
    "g@(Assign, y, max(2,3))\n",
    "g@(Print, y)"
   ]
  },
  {
   "cell_type": "code",
   "execution_count": 15,
   "metadata": {},
   "outputs": [],
   "source": [
    "g @ (\n",
    "    ClassDef,\n",
    "    \"A\",\n",
    "    ((Variable, \"x\"), (Variable, \"y\")),\n",
    "    (\n",
    "        (\n",
    "            FunctionDef,\n",
    "            \"init\",\n",
    "            (\"x\", \"y\"),\n",
    "            (Print, (Add, (Variable, \"x\"), (Variable, \"y\"))),\n",
    "        ),\n",
    "        (FunctionDef, \"g\", \n",
    "         (\"x\",), \n",
    "         (Print, (Variable, \"x\"))\n",
    "         ),\n",
    "        (FunctionDef, \n",
    "         \"setx\", (\"x\",), (Assign, (Variable, 'x') , 1) )\n",
    "    ),\n",
    ")"
   ]
  },
  {
   "cell_type": "code",
   "execution_count": 16,
   "metadata": {},
   "outputs": [
    {
     "data": {
      "text/plain": [
       "{}"
      ]
     },
     "execution_count": 16,
     "metadata": {},
     "output_type": "execute_result"
    }
   ],
   "source": [
    "g.env.contextManager.contexts.content['A'].context.content"
   ]
  },
  {
   "cell_type": "code",
   "execution_count": 14,
   "metadata": {},
   "outputs": [
    {
     "ename": "Exception",
     "evalue": "No init method found",
     "output_type": "error",
     "traceback": [
      "\u001b[0;31m---------------------------------------------------------------------------\u001b[0m",
      "\u001b[0;31mException\u001b[0m                                 Traceback (most recent call last)",
      "Cell \u001b[0;32mIn[14], line 1\u001b[0m\n\u001b[0;32m----> 1\u001b[0m s\u001b[38;5;241m=\u001b[39m\u001b[43mg\u001b[49m\u001b[43m \u001b[49m\u001b[38;5;241;43m@\u001b[39;49m\u001b[43m \u001b[49m\u001b[43m(\u001b[49m\n\u001b[1;32m      2\u001b[0m \u001b[43m    \u001b[49m\u001b[43mNew\u001b[49m\u001b[43m,\u001b[49m\u001b[43m \u001b[49m\u001b[38;5;124;43m\"\u001b[39;49m\u001b[38;5;124;43mA\u001b[39;49m\u001b[38;5;124;43m\"\u001b[39;49m\u001b[43m,\u001b[49m\u001b[43m \u001b[49m\u001b[38;5;241;43m1\u001b[39;49m\u001b[43m,\u001b[49m\u001b[43m \u001b[49m\u001b[38;5;241;43m2\u001b[39;49m\n\u001b[1;32m      3\u001b[0m \u001b[43m    \u001b[49m\u001b[43m)\u001b[49m\n",
      "File \u001b[0;32m~/Library/CloudStorage/OneDrive-Personal/Projects/Language/Lisp/Tools/pyEmbed.py:39\u001b[0m, in \u001b[0;36menvAccess.__matmul__\u001b[0;34m(self, other)\u001b[0m\n\u001b[1;32m     38\u001b[0m \u001b[38;5;28;01mdef\u001b[39;00m \u001b[38;5;21m__matmul__\u001b[39m(\u001b[38;5;28mself\u001b[39m, other):\n\u001b[0;32m---> 39\u001b[0m     \u001b[38;5;28;01mreturn\u001b[39;00m \u001b[38;5;28;43mself\u001b[39;49m\u001b[38;5;241;43m.\u001b[39;49m\u001b[43menv\u001b[49m\u001b[38;5;241;43m.\u001b[39;49m\u001b[43mparseGlobal\u001b[49m\u001b[43m(\u001b[49m\u001b[43mother\u001b[49m\u001b[43m)\u001b[49m\n",
      "File \u001b[0;32m~/Library/CloudStorage/OneDrive-Personal/Projects/Language/Lisp/Tools/pyEmbed.py:25\u001b[0m, in \u001b[0;36mpyEnv.parseGlobal\u001b[0;34m(self, ast)\u001b[0m\n\u001b[1;32m     24\u001b[0m \u001b[38;5;28;01mdef\u001b[39;00m \u001b[38;5;21mparseGlobal\u001b[39m(\u001b[38;5;28mself\u001b[39m, ast):\n\u001b[0;32m---> 25\u001b[0m     \u001b[38;5;28;43mself\u001b[39;49m\u001b[38;5;241;43m.\u001b[39;49m\u001b[43mparse\u001b[49m\u001b[43m(\u001b[49m\u001b[43mast\u001b[49m\u001b[43m)\u001b[49m\n",
      "File \u001b[0;32m~/Library/CloudStorage/OneDrive-Personal/Projects/Language/Lisp/Tools/pyEmbed.py:28\u001b[0m, in \u001b[0;36mpyEnv.parse\u001b[0;34m(self, ast)\u001b[0m\n\u001b[1;32m     27\u001b[0m \u001b[38;5;28;01mdef\u001b[39;00m \u001b[38;5;21mparse\u001b[39m(\u001b[38;5;28mself\u001b[39m, ast):\n\u001b[0;32m---> 28\u001b[0m     \u001b[38;5;28;01mreturn\u001b[39;00m \u001b[43mparser\u001b[49m\u001b[43m(\u001b[49m\u001b[43mast\u001b[49m\u001b[43m,\u001b[49m\u001b[43m \u001b[49m\u001b[38;5;28;43mself\u001b[39;49m\u001b[38;5;241;43m.\u001b[39;49m\u001b[43mcontextManager\u001b[49m\u001b[43m)\u001b[49m\n",
      "File \u001b[0;32m~/Library/CloudStorage/OneDrive-Personal/Projects/Language/Lisp/Parser/lispStyle.py:95\u001b[0m, in \u001b[0;36mparser\u001b[0;34m(ast, context)\u001b[0m\n\u001b[1;32m     91\u001b[0m \u001b[38;5;28;01mcase\u001b[39;00m (Tokens\u001b[38;5;241m.\u001b[39mNew, bnf\u001b[38;5;241m.\u001b[39mName(n), \u001b[38;5;241m*\u001b[39margs):\n\u001b[1;32m     92\u001b[0m     \u001b[38;5;66;03m# (New, 'A', 1, 2)\u001b[39;00m\n\u001b[1;32m     93\u001b[0m     \u001b[38;5;66;03m# objectName = context[n].createInstance(n, args, context, parser)\u001b[39;00m\n\u001b[1;32m     94\u001b[0m     tempObject \u001b[38;5;241m=\u001b[39m context[n]\u001b[38;5;241m.\u001b[39mcopy()\n\u001b[0;32m---> 95\u001b[0m     objectName \u001b[38;5;241m=\u001b[39m \u001b[43mtempObject\u001b[49m\u001b[38;5;241;43m.\u001b[39;49m\u001b[43mcreateInstance\u001b[49m\u001b[43m(\u001b[49m\u001b[43mn\u001b[49m\u001b[43m,\u001b[49m\u001b[43m \u001b[49m\u001b[43margs\u001b[49m\u001b[43m,\u001b[49m\u001b[43m \u001b[49m\u001b[43mcontext\u001b[49m\u001b[43m,\u001b[49m\u001b[43m \u001b[49m\u001b[43mparser\u001b[49m\u001b[43m)\u001b[49m\n\u001b[1;32m     96\u001b[0m     context[objectName] \u001b[38;5;241m=\u001b[39m tempObject\n\u001b[1;32m     97\u001b[0m     \u001b[38;5;28;01mreturn\u001b[39;00m objectName\n",
      "File \u001b[0;32m~/Library/CloudStorage/OneDrive-Personal/Projects/Language/Lisp/Compiler/OO.py:60\u001b[0m, in \u001b[0;36mClass.createInstance\u001b[0;34m(self, name, args, env, parser)\u001b[0m\n\u001b[1;32m     58\u001b[0m     \u001b[38;5;28;01mreturn\u001b[39;00m TypeVar(name, \u001b[38;5;28mself\u001b[39m\u001b[38;5;241m.\u001b[39mname)\n\u001b[1;32m     59\u001b[0m \u001b[38;5;28;01melse\u001b[39;00m:\n\u001b[0;32m---> 60\u001b[0m     \u001b[38;5;28;01mraise\u001b[39;00m \u001b[38;5;167;01mException\u001b[39;00m(\u001b[38;5;124m\"\u001b[39m\u001b[38;5;124mNo init method found\u001b[39m\u001b[38;5;124m\"\u001b[39m)\n",
      "\u001b[0;31mException\u001b[0m: No init method found"
     ]
    }
   ],
   "source": [
    "s=g @ (\n",
    "    New, \"A\", 1, 2\n",
    "    )"
   ]
  },
  {
   "cell_type": "code",
   "execution_count": null,
   "metadata": {},
   "outputs": [],
   "source": []
  },
  {
   "cell_type": "code",
   "execution_count": 17,
   "metadata": {},
   "outputs": [],
   "source": [
    "g@(FunctionDef,\n",
    "    \"f\", (\"x\", \"y\"),\n",
    "      (Print, (Add, (Variable, \"x\"), (Variable, \"y\"))))\n",
    "\n",
    "g@(FunctionDef,\n",
    "   'g', (\"x\",),\n",
    "   (Print, (Variable, \"x\")))"
   ]
  },
  {
   "cell_type": "code",
   "execution_count": 18,
   "metadata": {},
   "outputs": [
    {
     "name": "stdout",
     "output_type": "stream",
     "text": [
      "11\n"
     ]
    }
   ],
   "source": [
    "g@(Call, \"f\", 5,6)"
   ]
  },
  {
   "cell_type": "code",
   "execution_count": 19,
   "metadata": {},
   "outputs": [
    {
     "name": "stdout",
     "output_type": "stream",
     "text": [
      "None\n"
     ]
    }
   ],
   "source": [
    "g@(Print, (Variable, 'x'))"
   ]
  },
  {
   "cell_type": "code",
   "execution_count": 20,
   "metadata": {},
   "outputs": [
    {
     "name": "stdout",
     "output_type": "stream",
     "text": [
      "[1, 2, 3, 4, 5, 6, 7, 8, 9, 10]\n"
     ]
    }
   ],
   "source": [
    "g@(Print, (List, 1,2,3,4,5,6,7,8,9,10))"
   ]
  },
  {
   "cell_type": "code",
   "execution_count": 21,
   "metadata": {},
   "outputs": [
    {
     "name": "stdout",
     "output_type": "stream",
     "text": [
      "{} something\n"
     ]
    }
   ],
   "source": [
    "g@(Print,\n",
    "    (Dict, {}), \n",
    "    \"something\")"
   ]
  },
  {
   "cell_type": "code",
   "execution_count": null,
   "metadata": {},
   "outputs": [
    {
     "data": {
      "text/plain": [
       "{Grammer.Tokens.Add: <function _operator.add(a, b, /)>,\n",
       " Grammer.Tokens.And: <function _operator.and_(a, b, /)>,\n",
       " Grammer.Tokens.BitwiseAnd: <function _operator.and_(a, b, /)>,\n",
       " Grammer.Tokens.BitwiseNot: <function _operator.invert(a, /)>,\n",
       " Grammer.Tokens.BitwiseOr: <function _operator.or_(a, b, /)>,\n",
       " Grammer.Tokens.BitwiseXor: <function _operator.xor(a, b, /)>,\n",
       " Grammer.Tokens.Boolean: bool,\n",
       " Grammer.Tokens.Dict: dict,\n",
       " Grammer.Tokens.Divide: <function _operator.truediv(a, b, /)>,\n",
       " Grammer.Tokens.FloorDivide: <function _operator.floordiv(a, b, /)>,\n",
       " Grammer.Tokens.GreaterThan: <function _operator.gt(a, b, /)>,\n",
       " Grammer.Tokens.GreaterThanEqual: <function _operator.ge(a, b, /)>,\n",
       " Grammer.Tokens.In: <function _operator.contains(a, b, /)>,\n",
       " Grammer.Tokens.Is: <function _operator.is_(a, b, /)>,\n",
       " Grammer.Tokens.IsNot: <function _operator.is_not(a, b, /)>,\n",
       " Grammer.Tokens.LeftShift: <function _operator.lshift(a, b, /)>,\n",
       " Grammer.Tokens.LessThan: <function _operator.lt(a, b, /)>,\n",
       " Grammer.Tokens.LessThanEqual: <function _operator.le(a, b, /)>,\n",
       " Grammer.Tokens.List: list,\n",
       " Grammer.Tokens.Modulo: <function _operator.mod(a, b, /)>,\n",
       " Grammer.Tokens.Multiply: <function _operator.mul(a, b, /)>,\n",
       " Grammer.Tokens.Not: <function _operator.not_(a, /)>,\n",
       " Grammer.Tokens.NotEqual: <function _operator.ne(a, b, /)>,\n",
       " Grammer.Tokens.Or: <function _operator.or_(a, b, /)>,\n",
       " Grammer.Tokens.Print: <function print>,\n",
       " Grammer.Tokens.Set: set,\n",
       " Grammer.Tokens.String: str,\n",
       " Grammer.Tokens.Subtract: <function _operator.sub(a, b, /)>,\n",
       " Grammer.Tokens.Tuple: tuple,\n",
       " Grammer.Tokens.UnaryAdd: <function _operator.pos(a, /)>,\n",
       " Grammer.Tokens.UnaryInvert: <function _operator.invert(a, /)>,\n",
       " Grammer.Tokens.UnarySubtract: <function _operator.neg(a, /)>,\n",
       " Variable object: Var(x): 3,\n",
       " 'f': <Compiler.Procedure.Procedure at 0x1060b9570>}"
      ]
     },
     "execution_count": 12,
     "metadata": {},
     "output_type": "execute_result"
    }
   ],
   "source": [
    "g.env.contextManager.contexts.content"
   ]
  },
  {
   "cell_type": "code",
   "execution_count": null,
   "metadata": {},
   "outputs": [],
   "source": [
    "g@(Assign, (Var, 'x'), 1)"
   ]
  },
  {
   "cell_type": "code",
   "execution_count": null,
   "metadata": {},
   "outputs": [
    {
     "name": "stdout",
     "output_type": "stream",
     "text": [
      "None\n"
     ]
    }
   ],
   "source": [
    "g@(Print, (Variable, 'x'))"
   ]
  },
  {
   "cell_type": "code",
   "execution_count": 22,
   "metadata": {},
   "outputs": [
    {
     "data": {
      "text/plain": [
       "3"
      ]
     },
     "execution_count": 22,
     "metadata": {},
     "output_type": "execute_result"
    }
   ],
   "source": [
    "g.env.contextManager.contexts.content[Add](1,2)"
   ]
  },
  {
   "cell_type": "markdown",
   "metadata": {},
   "source": [
    "# Typed Test"
   ]
  },
  {
   "cell_type": "code",
   "execution_count": 1,
   "metadata": {},
   "outputs": [],
   "source": [
    "import Tools.pyEmbed as pebd\n",
    "from Grammer.Tokens import *\n",
    "from Compiler.Symbol import Var, TypeVar, TypeName\n",
    "from pprint import pprint"
   ]
  },
  {
   "cell_type": "code",
   "execution_count": 2,
   "metadata": {},
   "outputs": [],
   "source": [
    "g= pebd.createEnv(\"parserv3\")"
   ]
  },
  {
   "cell_type": "code",
   "execution_count": 3,
   "metadata": {},
   "outputs": [
    {
     "name": "stdout",
     "output_type": "stream",
     "text": [
      "parserReturnType:\n",
      "\tvalue: None \n",
      "\tvar: Variable object: Var(x): None \n",
      "\ttype: None \n",
      "\tcallable: None\n"
     ]
    }
   ],
   "source": [
    "print(g@(Variable, 'x'))"
   ]
  },
  {
   "cell_type": "code",
   "execution_count": 4,
   "metadata": {},
   "outputs": [
    {
     "name": "stdout",
     "output_type": "stream",
     "text": [
      "3\n"
     ]
    },
    {
     "data": {
      "text/plain": [
       "parserReturnType:\n",
       "\tvalue: None \n",
       "\tvar: None \n",
       "\ttype: None \n",
       "\tcallable: None"
      ]
     },
     "execution_count": 4,
     "metadata": {},
     "output_type": "execute_result"
    }
   ],
   "source": [
    "g@(Print, (Add, 1,2))"
   ]
  },
  {
   "cell_type": "code",
   "execution_count": 5,
   "metadata": {},
   "outputs": [
    {
     "name": "stdout",
     "output_type": "stream",
     "text": [
      "parserReturnType:\n",
      "\tvalue: 1 \n",
      "\tvar: None \n",
      "\ttype: TypedVariable object: TypedVariable( int) \n",
      "\tcallable: None\n",
      "parserReturnType:\n",
      "\tvalue: int \n",
      "\tvar: None \n",
      "\ttype: TypedVariable object: TypedVariable( str) \n",
      "\tcallable: None\n",
      "<class 'Grammer.TypingSys.TypedBase'>\n",
      "parserReturnType:\n",
      "\tvalue: None \n",
      "\tvar: TypeVar object: TypeVar(x, TypedVariable object: TypedVariable( int)):None \n",
      "\ttype: TypedVariable object: TypedVariable( int) \n",
      "\tcallable: None\n",
      "parserReturnType:\n",
      "\tvalue: 1 \n",
      "\tvar: Variable object: Var(y): 1 \n",
      "\ttype: None \n",
      "\tcallable: None\n",
      "parserReturnType:\n",
      "\tvalue: 1 \n",
      "\tvar: TypeVar object: TypeVar(x, TypedVariable object: TypedVariable( int)):1 \n",
      "\ttype: TypedVariable object: TypedVariable( int) \n",
      "\tcallable: None\n",
      "parserReturnType:\n",
      "\tvalue: 1 \n",
      "\tvar: Variable object: Var(y): 1 \n",
      "\ttype: None \n",
      "\tcallable: None\n",
      "parserReturnType:\n",
      "\tvalue: 2 \n",
      "\tvar: None \n",
      "\ttype: TypedVariable object: TypedVariable( int) \n",
      "\tcallable: None\n"
     ]
    }
   ],
   "source": [
    "print(g @ (1))\n",
    "print(g @ (\"int\"))\n",
    "Int = (g @ (TypeName, \"int\")).Type\n",
    "# print(g@(TypeVar, 'A', Int, 1))\n",
    "print(type(Int))\n",
    "print(g @ (TypeVar, \"x\", Int))\n",
    "# print(g@(Assign, (Var, 'x'), 1))\n",
    "\n",
    "print(g @ (Var, \"y\", 1))\n",
    "# print(g@(Assign, (Var, 'y'), 1))\n",
    "print(g @ (TypeVar, \"x\", Int, 1))\n",
    "print(g@ (Var, 'y'))\n",
    "print(g@(Assign, (Var, 'y'), 2))"
   ]
  },
  {
   "cell_type": "code",
   "execution_count": 6,
   "metadata": {},
   "outputs": [
    {
     "name": "stdout",
     "output_type": "stream",
     "text": [
      "parserReturnType:\n",
      "\tvalue: 1 \n",
      "\tvar: Variable object: Var(z): 1 \n",
      "\ttype: None \n",
      "\tcallable: None\n"
     ]
    }
   ],
   "source": [
    "print(g @ (Var, \"z\", 1))"
   ]
  },
  {
   "cell_type": "code",
   "execution_count": 7,
   "metadata": {},
   "outputs": [
    {
     "data": {
      "text/plain": [
       "parserReturnType:\n",
       "\tvalue: 3 \n",
       "\tvar: None \n",
       "\ttype: None \n",
       "\tcallable: None"
      ]
     },
     "execution_count": 7,
     "metadata": {},
     "output_type": "execute_result"
    }
   ],
   "source": [
    "g @ (Block, (Var, \"x\", 1), (Var, \"y\", 2), (Add, (Var, \"x\"), (Var, \"y\")))"
   ]
  },
  {
   "cell_type": "code",
   "execution_count": 8,
   "metadata": {},
   "outputs": [
    {
     "name": "stdout",
     "output_type": "stream",
     "text": [
      "2\n"
     ]
    },
    {
     "data": {
      "text/plain": [
       "parserReturnType:\n",
       "\tvalue: None \n",
       "\tvar: None \n",
       "\ttype: None \n",
       "\tcallable: None"
      ]
     },
     "execution_count": 8,
     "metadata": {},
     "output_type": "execute_result"
    }
   ],
   "source": [
    "g@ (If, (GreaterThan, (Var, \"x\"), (Var, \"y\")),\n",
    "    (Block, (Print, (Var, \"x\")) ), Else,\n",
    "     (Block, (Print, (Var, \"y\")) ))"
   ]
  },
  {
   "cell_type": "code",
   "execution_count": 9,
   "metadata": {},
   "outputs": [
    {
     "data": {
      "text/plain": [
       "parserReturnType:\n",
       "\tvalue: None \n",
       "\tvar: None \n",
       "\ttype: None \n",
       "\tcallable: Standard Procedure: \n",
       "f((<class 'Grammer.Tokens.Variable'>, 'x'), (<class 'Grammer.Tokens.Variable'>, 'y')) \n",
       "[(<class 'Grammer.Tokens.Print'>, (<class 'Grammer.Tokens.Add'>, (<class 'Grammer.Tokens.Variable'>, 'x'), (<class 'Grammer.Tokens.Variable'>, 'y')))]"
      ]
     },
     "execution_count": 9,
     "metadata": {},
     "output_type": "execute_result"
    }
   ],
   "source": [
    "g @ (FunctionDef, \"f\", ((Variable, \"x\"), (Variable, \"y\" )), (Print, (Add, (Variable, \"x\"), (Variable, \"y\"))))"
   ]
  },
  {
   "cell_type": "code",
   "execution_count": 10,
   "metadata": {},
   "outputs": [
    {
     "name": "stdout",
     "output_type": "stream",
     "text": [
      "56\n"
     ]
    },
    {
     "data": {
      "text/plain": [
       "parserReturnType:\n",
       "\tvalue: parserReturnType:\n",
       "\tvalue: None \n",
       "\tvar: None \n",
       "\ttype: None \n",
       "\tcallable: None \n",
       "\tvar: None \n",
       "\ttype: None \n",
       "\tcallable: None"
      ]
     },
     "execution_count": 10,
     "metadata": {},
     "output_type": "execute_result"
    }
   ],
   "source": [
    "g@(Call, \"f\", 50,6)"
   ]
  },
  {
   "cell_type": "code",
   "execution_count": 11,
   "metadata": {},
   "outputs": [
    {
     "data": {
      "text/plain": [
       "parserReturnType:\n",
       "\tvalue: None \n",
       "\tvar: None \n",
       "\ttype: None \n",
       "\tcallable: Standard Procedure: \n",
       "f2((<class 'Compiler.Symbol.TypeVar'>, 'x', 'int'), (<class 'Compiler.Symbol.TypeVar'>, 'y', 'int')) \n",
       "[(<class 'Grammer.Tokens.Print'>, (<class 'Grammer.Tokens.Add'>, (<class 'Grammer.Tokens.Variable'>, 'x'), (<class 'Grammer.Tokens.Variable'>, 'y')))]"
      ]
     },
     "execution_count": 11,
     "metadata": {},
     "output_type": "execute_result"
    }
   ],
   "source": [
    "g @ (\n",
    "    FunctionDef,\n",
    "    \"f2\",\n",
    "    ((TypeVar, \"x\", 'int'), (TypeVar, \"y\", 'int')),\n",
    "    (Print, (Add, (Variable, \"x\"), (Variable, \"y\"))),\n",
    ")"
   ]
  },
  {
   "cell_type": "code",
   "execution_count": 12,
   "metadata": {},
   "outputs": [
    {
     "data": {
      "text/plain": [
       "parserReturnType:\n",
       "\tvalue: 1 \n",
       "\tvar: TypeVar object: TypeVar(x, TypedVariable object: TypedVariable(x, TypedVariable object: TypedVariable( int)), From []):1 \n",
       "\ttype: TypedVariable object: TypedVariable(x, TypedVariable object: TypedVariable( int)), From [] \n",
       "\tcallable: None"
      ]
     },
     "execution_count": 12,
     "metadata": {},
     "output_type": "execute_result"
    }
   ],
   "source": [
    "g@(TypeVar, \"x\", 'int', 1)"
   ]
  },
  {
   "cell_type": "code",
   "execution_count": 13,
   "metadata": {},
   "outputs": [
    {
     "data": {
      "text/plain": [
       "parserReturnType:\n",
       "\tvalue: None \n",
       "\tvar: TypeVar object: TypeVar(x, TypedVariable object: TypedVariable(x, TypedVariable object: TypedVariable( int)), From []):None \n",
       "\ttype: TypedVariable object: TypedVariable(x, TypedVariable object: TypedVariable( int)), From [] \n",
       "\tcallable: None"
      ]
     },
     "execution_count": 13,
     "metadata": {},
     "output_type": "execute_result"
    }
   ],
   "source": [
    "g@(TypeVar, 'x', 'int')"
   ]
  },
  {
   "cell_type": "code",
   "execution_count": 14,
   "metadata": {},
   "outputs": [
    {
     "data": {
      "text/plain": [
       "parserReturnType:\n",
       "\tvalue: 2 \n",
       "\tvar: None \n",
       "\ttype: TypedVariable object: TypedVariable( int) \n",
       "\tcallable: None"
      ]
     },
     "execution_count": 14,
     "metadata": {},
     "output_type": "execute_result"
    }
   ],
   "source": [
    "g@(Assign, (TypeVar, \"x\", 'int'), 2)"
   ]
  },
  {
   "cell_type": "code",
   "execution_count": 15,
   "metadata": {},
   "outputs": [
    {
     "data": {
      "text/plain": [
       "parserReturnType:\n",
       "\tvalue: parserReturnType:\n",
       "\tvalue: 3 \n",
       "\tvar: None \n",
       "\ttype: None \n",
       "\tcallable: None \n",
       "\tvar: None \n",
       "\ttype: None \n",
       "\tcallable: None"
      ]
     },
     "execution_count": 15,
     "metadata": {},
     "output_type": "execute_result"
    }
   ],
   "source": [
    "g@((Lambda, (\"x\", \"y\"), (Add, (Variable, \"x\"), (Variable, \"y\"))), 1,2)"
   ]
  },
  {
   "cell_type": "code",
   "execution_count": 16,
   "metadata": {},
   "outputs": [
    {
     "name": "stdout",
     "output_type": "stream",
     "text": [
      "11\n"
     ]
    },
    {
     "data": {
      "text/plain": [
       "parserReturnType:\n",
       "\tvalue: parserReturnType:\n",
       "\tvalue: None \n",
       "\tvar: None \n",
       "\ttype: None \n",
       "\tcallable: None \n",
       "\tvar: None \n",
       "\ttype: None \n",
       "\tcallable: None"
      ]
     },
     "execution_count": 16,
     "metadata": {},
     "output_type": "execute_result"
    }
   ],
   "source": [
    "g@(Call, \"f2\", 5,6)"
   ]
  },
  {
   "cell_type": "code",
   "execution_count": 9,
   "metadata": {},
   "outputs": [
    {
     "data": {
      "text/plain": [
       "parserReturnType:\n",
       "\tvalue: None \n",
       "\tvar: TypeVar object: TypeVar(Point, TypedVariable object: TypedVariable( Point)):<Compiler.OO.Class object at 0x1073a21a0> \n",
       "\ttype: TypedVariable object: TypedVariable( Point) \n",
       "\tcallable: None"
      ]
     },
     "execution_count": 9,
     "metadata": {},
     "output_type": "execute_result"
    }
   ],
   "source": [
    "g @ (\n",
    "    ClassDef,\n",
    "    \"Point\",\n",
    "    (Var, \"self.x\", 0),\n",
    "    (Var, \"self.y\", 0),\n",
    "    (\n",
    "        FunctionDef,\n",
    "        \"init\",\n",
    "        ((TypeVar, \"x\", \"int\"), \n",
    "        (TypeVar, \"y\", \"int\")),\n",
    "        (Assign, (Var, \"self.x\"), (Var, \"x\")),\n",
    "        (Assign, (Var, \"self.y\"), (Var, \"y\")),\n",
    "    ),\n",
    "    (FunctionDef, \"printx\", \n",
    "     None, \n",
    "     (Print, (Variable, \"self.x\"))\n",
    "     ),\n",
    "    (FunctionDef, \"setx\",\n",
    "        ((Variable, 'x'),), \n",
    "        (Assign, (Var, \"self.x\"), (Var, \"x\"))),\n",
    ")"
   ]
  },
  {
   "cell_type": "code",
   "execution_count": 10,
   "metadata": {},
   "outputs": [
    {
     "name": "stdout",
     "output_type": "stream",
     "text": [
      "{'self.x': Variable object: Var(self.x): 0, 'self.y': Variable object: Var(self.y): 0, 'init': <Compiler.Procedure.Procedure object at 0x1073a0580>, 'printx': <Compiler.Procedure.Procedure object at 0x1073a05b0>, 'setx': <Compiler.Procedure.Procedure object at 0x1073a05e0>}\n"
     ]
    }
   ],
   "source": [
    "print(g.contextManager.currentContext.content['Point'].value.context.content)"
   ]
  },
  {
   "cell_type": "code",
   "execution_count": 11,
   "metadata": {},
   "outputs": [
    {
     "data": {
      "text/plain": [
       "parserReturnType:\n",
       "\tvalue: <Compiler.OO.Class object at 0x10714b5e0> \n",
       "\tvar: Variable object: Var(x): <Compiler.OO.Class object at 0x10714b5e0> \n",
       "\ttype: None \n",
       "\tcallable: None"
      ]
     },
     "execution_count": 11,
     "metadata": {},
     "output_type": "execute_result"
    }
   ],
   "source": [
    "g@ (Assign, 'x', (New, \"Point\", 1,2))"
   ]
  },
  {
   "cell_type": "code",
   "execution_count": 6,
   "metadata": {},
   "outputs": [
    {
     "name": "stdout",
     "output_type": "stream",
     "text": [
      "i\n"
     ]
    },
    {
     "data": {
      "text/plain": [
       "parserReturnType:\n",
       "\tvalue: None \n",
       "\tvar: None \n",
       "\ttype: None \n",
       "\tcallable: None"
      ]
     },
     "execution_count": 6,
     "metadata": {},
     "output_type": "execute_result"
    }
   ],
   "source": [
    "g@(\n",
    "    For, (Var, \"i\"), range(10), (Print,  \"i\")\n",
    "     \n",
    "    \n",
    "    )"
   ]
  },
  {
   "cell_type": "code",
   "execution_count": 9,
   "metadata": {},
   "outputs": [
    {
     "name": "stdout",
     "output_type": "stream",
     "text": [
      "1\n",
      "2\n",
      "3\n",
      "4\n",
      "5\n",
      "6\n",
      "7\n",
      "8\n",
      "9\n",
      "10\n"
     ]
    },
    {
     "data": {
      "text/plain": [
       "parserReturnType:\n",
       "\tvalue: None \n",
       "\tvar: None \n",
       "\ttype: None \n",
       "\tcallable: None"
      ]
     },
     "execution_count": 9,
     "metadata": {},
     "output_type": "execute_result"
    }
   ],
   "source": [
    "g@(Map, (Lambda, (\"x\",), (Print, 1 )), (1,2,3,4,5,6,7,8,9,10))\n",
    "g@(Block, (Print, 1), (Print, 2), (Print, 3), (Print, 4), (Print, 5), (Print, 6), (Print, 7), (Print, 8), (Print, 9), (Print, 10))"
   ]
  },
  {
   "cell_type": "code",
   "execution_count": 27,
   "metadata": {},
   "outputs": [
    {
     "data": {
      "text/plain": [
       "parserReturnType:\n",
       "\tvalue: parserReturnType:\n",
       "\tvalue: 10 \n",
       "\tvar: None \n",
       "\ttype: TypedVariable object: TypedVariable(x, TypedVariable object: TypedVariable( int)), From [] \n",
       "\tcallable: None \n",
       "\tvar: None \n",
       "\ttype: None \n",
       "\tcallable: None"
      ]
     },
     "execution_count": 27,
     "metadata": {},
     "output_type": "execute_result"
    }
   ],
   "source": [
    "g@(Call,  ('x','setx'), 10)"
   ]
  },
  {
   "cell_type": "code",
   "execution_count": 18,
   "metadata": {},
   "outputs": [
    {
     "name": "stdout",
     "output_type": "stream",
     "text": [
      "TypedVariable object: TypedVariable( str)\n",
      "TypedVariable object: TypedVariable( float)\n"
     ]
    }
   ],
   "source": [
    "String = (g@(\"ConstantString\")).Type\n",
    "Float = (g@(1.23456)).Type\n",
    "print(String)\n",
    "print(Float)"
   ]
  }
 ],
 "metadata": {
  "kernelspec": {
   "display_name": "cv",
   "language": "python",
   "name": "python3"
  },
  "language_info": {
   "codemirror_mode": {
    "name": "ipython",
    "version": 3
   },
   "file_extension": ".py",
   "mimetype": "text/x-python",
   "name": "python",
   "nbconvert_exporter": "python",
   "pygments_lexer": "ipython3",
   "version": "3.10.13"
  }
 },
 "nbformat": 4,
 "nbformat_minor": 2
}
